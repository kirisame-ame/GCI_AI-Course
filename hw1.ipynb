{
  "cells": [
    {
      "cell_type": "markdown",
      "metadata": {
        "id": "view-in-github",
        "colab_type": "text"
      },
      "source": [
        "<a href=\"https://colab.research.google.com/github/kirisame-ame/GCI_AI-Course/blob/main/hw1.ipynb\" target=\"_parent\"><img src=\"https://colab.research.google.com/assets/colab-badge.svg\" alt=\"Open In Colab\"/></a>"
      ]
    },
    {
      "cell_type": "markdown",
      "source": [
        "# Homework 1: Efficient Data Manipulation Using Numpy"
      ],
      "metadata": {
        "id": "KAGzcpxTfJRg"
      }
    },
    {
      "cell_type": "markdown",
      "metadata": {
        "id": "93cl9JWr_5nm"
      },
      "source": [
        "## Question\n",
        "Implement a function, `homework()`, that takes a one-dimensional NumPy array containing integer values as an argument and returns an array consisting of elements that are multiples of 5 and leave a remainder of 1 when divided by 2.\n",
        "\n",
        "**Expected Output:**\n",
        "```python\n",
        "a = np.array([1, 5, 10, 3, 4, 25, 30])\n",
        "print(homework(a))\n",
        "np.array([5, 25])\n",
        "```\n",
        "**Hints:**\n",
        "1. Import libraries\n",
        "2. Fill in the WRITE ME in the function\n",
        "3. Check the outputs of the function using print()\n",
        "\n",
        "**Submission Guidelines:**\n",
        "When submitting your solution, only submit the entire `homework()` function. Submit by selecting this week's assignment in the Omnicampus homework section, pasting the function into the submission area, and then clicking [Submit Python Code].\n",
        "\n",
        "Please pay attention to the following points when submitting.\n",
        "- Erase the `!!WRITE ME!!` when submitting\n",
        "- The return value of the function should be a numpy array\n",
        "- Write your answer as one function"
      ]
    },
    {
      "cell_type": "markdown",
      "source": [
        "## Deadline\n",
        "2/4 (Tue) 23:59"
      ],
      "metadata": {
        "id": "9kHLTzpCitZI"
      }
    },
    {
      "cell_type": "markdown",
      "source": [
        "## 1. Importing Libraries"
      ],
      "metadata": {
        "id": "cCoqWSYkhoge"
      }
    },
    {
      "cell_type": "code",
      "execution_count": 1,
      "metadata": {
        "id": "thHL7HyXBXvS"
      },
      "outputs": [],
      "source": [
        "# 1. Import libraries\n",
        "import numpy as np"
      ]
    },
    {
      "cell_type": "markdown",
      "source": [
        "## 2. Solution"
      ],
      "metadata": {
        "id": "1rZ5DvN6hsde"
      }
    },
    {
      "cell_type": "code",
      "source": [
        "# Feel free to use this code block for testing\n",
        "def homework(a):\n",
        "  print(\"test\")\n"
      ],
      "metadata": {
        "id": "mt8GLL45mR_g"
      },
      "execution_count": 3,
      "outputs": []
    },
    {
      "cell_type": "code",
      "source": [
        "def homework(a):\n",
        "    return np.array([x for x in a if x%5==0 and x%2==1])"
      ],
      "metadata": {
        "id": "KS14N2rL34tN"
      },
      "execution_count": 10,
      "outputs": []
    },
    {
      "cell_type": "markdown",
      "source": [
        "## 3. Checking the Outputs\n",
        "\n",
        "Let's check you get the expected outputs on several test cases."
      ],
      "metadata": {
        "id": "riPf3Nxuhuin"
      }
    },
    {
      "cell_type": "code",
      "source": [
        "a = np.array([1, 5, 10, 3, 4, 25, 30])"
      ],
      "metadata": {
        "id": "a7BIZB2Y3gMU"
      },
      "execution_count": 11,
      "outputs": []
    },
    {
      "cell_type": "markdown",
      "source": [
        "Use `print()` to see the returned value of `homework()`."
      ],
      "metadata": {
        "id": "GvKh1B96iDm7"
      }
    },
    {
      "cell_type": "code",
      "source": [
        "print(homework(a))"
      ],
      "metadata": {
        "colab": {
          "base_uri": "https://localhost:8080/"
        },
        "id": "rEbyIHh_3gDM",
        "outputId": "526df88e-9730-4547-f6d9-5f72bbf0a170"
      },
      "execution_count": 12,
      "outputs": [
        {
          "output_type": "stream",
          "name": "stdout",
          "text": [
            "[ 5 25]\n"
          ]
        }
      ]
    },
    {
      "cell_type": "markdown",
      "source": [
        "Let's check with another test case."
      ],
      "metadata": {
        "id": "tvKfSHWJiTHx"
      }
    },
    {
      "cell_type": "code",
      "source": [
        "b = np.array([1, 3])\n",
        "print(homework(b))"
      ],
      "metadata": {
        "colab": {
          "base_uri": "https://localhost:8080/"
        },
        "id": "x-W_28aO3fp9",
        "outputId": "8c9000a6-43fd-463d-e2ee-912fd65c5d37"
      },
      "execution_count": 13,
      "outputs": [
        {
          "output_type": "stream",
          "name": "stdout",
          "text": [
            "[]\n"
          ]
        }
      ]
    },
    {
      "cell_type": "markdown",
      "source": [
        "Once you've finished checking, copy and paste your `homework()` function to Omnicampus and submit your solution. If you see a `1.0`, it means that the your answer was correct."
      ],
      "metadata": {
        "id": "prrNEEUuiWB0"
      }
    },
    {
      "cell_type": "markdown",
      "source": [
        "# Additional Testing"
      ],
      "metadata": {
        "id": "NsvCiykxRxHS"
      }
    },
    {
      "cell_type": "code",
      "source": [
        "print(homework(np.array([1,2,5,7,10,100,200,341,574,778,1005,293045])))"
      ],
      "metadata": {
        "id": "IdSSmfRSRy4F",
        "outputId": "5cd7e4d9-054f-4bb7-ec8f-d48ee1fffd72",
        "colab": {
          "base_uri": "https://localhost:8080/"
        }
      },
      "execution_count": 15,
      "outputs": [
        {
          "output_type": "stream",
          "name": "stdout",
          "text": [
            "[     5   1005 293045]\n"
          ]
        }
      ]
    }
  ],
  "metadata": {
    "colab": {
      "provenance": [],
      "include_colab_link": true
    },
    "kernelspec": {
      "display_name": "Python 3",
      "name": "python3"
    },
    "language_info": {
      "codemirror_mode": {
        "name": "ipython",
        "version": 3
      },
      "file_extension": ".py",
      "mimetype": "text/x-python",
      "name": "python",
      "nbconvert_exporter": "python",
      "pygments_lexer": "ipython3",
      "version": "3.8.5"
    }
  },
  "nbformat": 4,
  "nbformat_minor": 0
}